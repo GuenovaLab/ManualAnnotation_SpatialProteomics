{
 "cells": [
  {
   "cell_type": "code",
   "execution_count": null,
   "id": "dfa8e652",
   "metadata": {},
   "outputs": [],
   "source": [
    "# this cell is required to run these notebooks on Binder\n",
    "# if running on Binder, remember to **WAIT 5 SECONDS** after\n",
    "# running the '%gui qt' cell below. If you get an error,\n",
    "# click on \"Kernel -> Restart\" and try again. Make sure also\n",
    "# that you have a desktop tab open.\n",
    "import os\n",
    "if 'BINDER_SERVICE_HOST' in os.environ:\n",
    "    os.environ['DISPLAY'] = ':1.0'"
   ]
  },
  {
   "cell_type": "code",
   "execution_count": null,
   "id": "236922fd",
   "metadata": {},
   "outputs": [],
   "source": []
  },
  {
   "cell_type": "code",
   "execution_count": null,
   "id": "b9cdf17f",
   "metadata": {},
   "outputs": [],
   "source": []
  },
  {
   "cell_type": "code",
   "execution_count": 1,
   "id": "94e46650",
   "metadata": {},
   "outputs": [],
   "source": [
    "##############################################################################################################\n",
    "##############################################################################################################\n",
    "\n",
    "# CHANGE HERE SAMPLE :\n",
    "sample = \"ROI-09\"\n",
    "\n",
    "##############################################################################################################\n",
    "##############################################################################################################"
   ]
  },
  {
   "cell_type": "code",
   "execution_count": null,
   "id": "972c652f",
   "metadata": {},
   "outputs": [],
   "source": []
  },
  {
   "cell_type": "code",
   "execution_count": null,
   "id": "abd7e845",
   "metadata": {},
   "outputs": [],
   "source": []
  },
  {
   "cell_type": "code",
   "execution_count": null,
   "id": "28b9f990",
   "metadata": {},
   "outputs": [],
   "source": []
  },
  {
   "cell_type": "code",
   "execution_count": null,
   "id": "8b6d26a2",
   "metadata": {},
   "outputs": [],
   "source": []
  },
  {
   "cell_type": "code",
   "execution_count": 2,
   "id": "04bc8c73",
   "metadata": {},
   "outputs": [],
   "source": [
    "import os\n",
    "import pandas as pd\n",
    "import numpy as np\n",
    "from tifffile import imread\n",
    "import random\n",
    "\n",
    "%gui qt"
   ]
  },
  {
   "cell_type": "code",
   "execution_count": 3,
   "id": "3376295e",
   "metadata": {},
   "outputs": [],
   "source": [
    "import napari\n",
    "from napari.utils import nbscreenshot\n",
    "\n",
    "# Create an empty viewer\n",
    "viewer = napari.Viewer()"
   ]
  },
  {
   "cell_type": "code",
   "execution_count": 4,
   "id": "ce1e0b8a",
   "metadata": {},
   "outputs": [],
   "source": [
    "# One time only select random samples from each category\n",
    "print([\"1\",\"7\",\"13\",\"18\",\"28\"][random.randint(0,4)]) # HD\n",
    "print([\"2\",\"8\",\"14\",\"19\",\"24\"][random.randint(0,4)]) # LP\n",
    "print([\"3\",\"9\",\"15\",\"20\",\"25\"][random.randint(0,4)]) # AD\n",
    "print([\"4\",\"10\",\"16\",\"21\",\"26\"][random.randint(0,4)]) # PS\n",
    "print([\"5\",\"11\",\"17\",\"22\"][random.randint(0,3)]) # SS\n",
    "print([\"6\",\"12\",\"23\",\"27\"][random.randint(0,3)]) # MF"
   ]
  },
  {
   "cell_type": "code",
   "execution_count": 5,
   "id": "e5fc2103",
   "metadata": {
    "scrolled": true
   },
   "outputs": [],
   "source": [
    "HD = [\"ROI-13\", \"ROI-07\"]\n",
    "LP = [\"ROI-08\", \"ROI-14\"]\n",
    "AD = [\"ROI-25\", \"ROI-20\"]\n",
    "PS = [\"ROI-4\", \"ROI-10\"]\n",
    "SS = [\"ROI-22\", \"ROI-05\"]\n",
    "MF = [\"ROI-12\", \"ROI-06\"]\n",
    "\n",
    "samples = [HD, LP, AD, PS, SS, MF]\n",
    "samples = [item for sublist in samples for item in sublist]\n",
    "samples"
   ]
  },
  {
   "cell_type": "code",
   "execution_count": 6,
   "id": "73b90f3d",
   "metadata": {},
   "outputs": [],
   "source": [
    "[\"TL\",\"BL\",\"TR\",\"BR\"][random.randint(0,3)]"
   ]
  },
  {
   "cell_type": "code",
   "execution_count": 7,
   "id": "f05b9f57",
   "metadata": {},
   "outputs": [],
   "source": [
    "print([\"Christoph\",\"YunTsan\",\"YiChien\",\"Ionoss\",\"Pacome\"][random.randint(0,4)])\n",
    "print(samples[random.randint(0,len(samples)-1)])"
   ]
  },
  {
   "cell_type": "code",
   "execution_count": 8,
   "id": "06a0cc39",
   "metadata": {},
   "outputs": [],
   "source": [
    "Christoph = [\"ROI-22\", \"ROI-07\", \"ROI-23-BL\", \"ROI-17-TL\"]\n",
    "YunTsan = [\"ROI-13\", \"ROI-25\", \"ROI-23-BL\"]\n",
    "YiChien = [\"ROI-04\", \"ROI-05\",\"ROI-17-TL\"]\n",
    "Ionoss = [\"ROI-20\", \"ROI-14\", \"ROI-17-TL\"]\n",
    "Pacome = [\"ROI-08\", \"ROI-12\",\"ROI-23-BL\", \"ROI-17-TL\"]\n"
   ]
  },
  {
   "cell_type": "code",
   "execution_count": 9,
   "id": "8e3a536c",
   "metadata": {},
   "outputs": [],
   "source": [
    "# Change below\n",
    "output_dir = \"/media/localadmin/T7/CHUV/Documents/Muliplex_Imaging_Pipeline/output/manual_annotation\"\n",
    "cell_marker_file = \"/media/localadmin/T7/CHUV/Documents/Muliplex_Imaging_Pipeline/annotation/cell_markers.csv\"\n",
    "tiff_dir = \"/media/localadmin/T7/CHUV/Documents/Muliplex_Imaging_Pipeline/output/input/\"\n",
    "segmentation_dir  = \"/media/localadmin/T7/CHUV/Documents/Muliplex_Imaging_Pipeline/output/segmentation/\"\n",
    "corner = [\"TL\",\"BL\",\"TR\",\"BR\"][random.randint(0,3)]"
   ]
  },
  {
   "cell_type": "code",
   "execution_count": 10,
   "id": "0bc52697",
   "metadata": {},
   "outputs": [],
   "source": [
    "save_dir = os.path.join(output_dir, sample + \"-\" + corner)\n",
    "if not os.path.exists(save_dir):\n",
    "    os.makedirs(save_dir)\n",
    "    "
   ]
  },
  {
   "cell_type": "code",
   "execution_count": null,
   "id": "6956e43c",
   "metadata": {},
   "outputs": [],
   "source": []
  },
  {
   "cell_type": "code",
   "execution_count": 11,
   "id": "9e7f2e5a",
   "metadata": {},
   "outputs": [],
   "source": [
    "cell_type = pd.read_csv(os.path.join(cell_marker_file))\n",
    "\n",
    "cell_types_unique = cell_type.cell_type[np.sort(np.unique(cell_type.cell_type, return_index=True)[1])]\n",
    "cell_types_unique = np.flip(cell_types_unique)\n",
    "\n",
    "marker_unique = cell_type.marker[np.sort(np.unique(cell_type.marker, return_index=True)[1])]\n",
    "marker_unique = np.flip(marker_unique)\n"
   ]
  },
  {
   "cell_type": "code",
   "execution_count": null,
   "id": "5c6c885d",
   "metadata": {},
   "outputs": [],
   "source": []
  },
  {
   "cell_type": "code",
   "execution_count": 12,
   "id": "b487cdf1",
   "metadata": {},
   "outputs": [],
   "source": [
    "#DAPI = imread(os.path.join(os.path.join(tiff_dir, sample, \"DAPI.tiff\")))\n",
    "#viewer.add_image(DAPI, name=\"DAPI\", colormap=\"gray\",contrast_limits=[7500, 50000]);\n"
   ]
  },
  {
   "cell_type": "code",
   "execution_count": 13,
   "id": "c36a1904",
   "metadata": {},
   "outputs": [],
   "source": [
    "for i in cell_types_unique:\n",
    "    df = cell_type[cell_type.cell_type == i]\n",
    "    chain = i\n",
    "    for marker in df.marker:\n",
    "        if marker not in viewer.layers:\n",
    "            color = cell_type.color_map[cell_type.marker == marker].to_list()[0]\n",
    "            min_contrast = cell_type.default_min[cell_type.marker == marker].to_list()[0]\n",
    "            max_contrast = cell_type.default_max[cell_type.marker == marker].to_list()[0]\n",
    "            visible = cell_type.visible[cell_type.marker == marker].to_list()[0]\n",
    "            blending = cell_type.blending[cell_type.marker == marker].to_list()[0]\n",
    "            image = imread(os.path.join(os.path.join(tiff_dir, sample, marker + \".tiff\")))\n",
    "            viewer.add_image(image, name=marker, colormap=color, contrast_limits=[int(min_contrast), int(max_contrast)],\n",
    "                            blending = blending, visible = visible);\n"
   ]
  },
  {
   "cell_type": "code",
   "execution_count": null,
   "id": "b88baff2",
   "metadata": {},
   "outputs": [],
   "source": []
  },
  {
   "cell_type": "code",
   "execution_count": 14,
   "id": "37a8924a",
   "metadata": {},
   "outputs": [],
   "source": [
    "chains = []\n",
    "for i in cell_types_unique:\n",
    "    \n",
    "    df = cell_type[cell_type.cell_type == i]\n",
    "    chain = i\n",
    "    for marker in df.marker:\n",
    "        if np.asarray(df.positive[df.marker == marker])[0] == True:\n",
    "            chain = chain + str(\"_\") + marker + \"+\"\n",
    "        else:\n",
    "            chain = chain + str(\"_\") + marker + \"-\"\n",
    "    print(chain)\n",
    "    chains = chains + [chain]\n",
    "    viewer.add_points(name=chain, face_color = df.cell_type_color.to_list()[0],\n",
    "                      edge_color = \"#d4c51bff\", edge_width=0.1, opacity=1, size = 30);\n",
    "    viewer.layers[chain].mode = \"add\""
   ]
  },
  {
   "cell_type": "code",
   "execution_count": null,
   "id": "4a0dfc5a",
   "metadata": {},
   "outputs": [],
   "source": []
  },
  {
   "cell_type": "code",
   "execution_count": 15,
   "id": "6fd1eb98",
   "metadata": {},
   "outputs": [],
   "source": [
    "if corner == \"TL\":\n",
    "    polygon = [[0, 0],[round(image.shape[0] /2),round(image.shape[1] /2)]]\n",
    "if corner == \"TR\":\n",
    "    polygon = [[0, round(image.shape[1] /2)],[round(image.shape[0] /2),image.shape[1]]]\n",
    "if corner == \"BL\":\n",
    "    polygon = [[round(image.shape[0] /2), 0],[image.shape[0],round(image.shape[1] /2)]]\n",
    "if corner == \"BR\":\n",
    "    polygon = [[round(image.shape[0] /2), round(image.shape[1] /2)], [image.shape[0], image.shape[1]]]\n",
    "\n",
    "viewer.add_shapes(polygon, name=\"ROI\", face_color = \"#77777700\", edge_color = \"red\", edge_width=20)"
   ]
  },
  {
   "cell_type": "code",
   "execution_count": 16,
   "id": "8ca8b57a",
   "metadata": {},
   "outputs": [],
   "source": [
    "segmentation = imread(os.path.join(os.path.join(segmentation_dir, sample + \"_whole_cell_segmentation_borders.tiff\")))\n",
    "viewer.add_labels(segmentation, name=\"cell_types\");"
   ]
  },
  {
   "cell_type": "code",
   "execution_count": 17,
   "id": "a2a160c2",
   "metadata": {},
   "outputs": [],
   "source": [
    "@viewer.bind_key('Shift-S', overwrite = \"True\")\n",
    "def save_all(viewer):\n",
    "    for i in chains:\n",
    "        viewer.layers[i].save(os.path.join( save_dir, i + '.csv'));"
   ]
  }
 ],
 "metadata": {
  "kernelspec": {
   "display_name": "Python 3 (ipykernel)",
   "language": "python",
   "name": "python3"
  },
  "language_info": {
   "codemirror_mode": {
    "name": "ipython",
    "version": 3
   },
   "file_extension": ".py",
   "mimetype": "text/x-python",
   "name": "python",
   "nbconvert_exporter": "python",
   "pygments_lexer": "ipython3",
   "version": "3.9.16"
  }
 },
 "nbformat": 4,
 "nbformat_minor": 5
}
